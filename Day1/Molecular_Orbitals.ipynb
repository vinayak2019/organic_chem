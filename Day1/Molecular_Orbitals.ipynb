{
  "cells": [
    {
      "cell_type": "markdown",
      "metadata": {
        "id": "view-in-github",
        "colab_type": "text"
      },
      "source": [
        "<a href=\"https://colab.research.google.com/github/vinayak2019/organic_chem/blob/main/Day1/Molecular_Orbitals.ipynb\" target=\"_parent\"><img src=\"https://colab.research.google.com/assets/colab-badge.svg\" alt=\"Open In Colab\"/></a>"
      ]
    },
    {
      "cell_type": "code",
      "execution_count": null,
      "metadata": {
        "id": "L3UDM31nQOUd"
      },
      "outputs": [],
      "source": [
        "%%capture\n",
        "# @title Run this cell to install the necessary software. { display-mode: \"form\" }\n",
        "\n",
        "#@markdown This should take a minute to run.\n",
        "\n",
        "! pip install pyscf\n",
        "! pip install rdkit\n",
        "! pip install geometric\n",
        "! pip install py3Dmol\n",
        "\n",
        "import os\n",
        "import sys\n",
        "import pyscf\n",
        "import py3Dmol\n",
        "import matplotlib.pyplot as plt\n",
        "\n",
        "from pyscf.hessian import thermo\n",
        "from pyscf import gto, scf, dft, tools, lo\n",
        "from pyscf.geomopt.geometric_solver import optimize\n",
        "\n",
        "from rdkit import Chem\n",
        "from rdkit.Chem import Draw\n",
        "from rdkit.Chem import AllChem\n",
        "from rdkit.Chem.Draw import IPythonConsole"
      ]
    },
    {
      "cell_type": "code",
      "execution_count": null,
      "metadata": {
        "cellView": "form",
        "id": "b_z0PEv8RGdk"
      },
      "outputs": [],
      "source": [
        "from IPython.core.display import Image\n",
        "#@title Load molecule { run: \"auto\" }\n",
        "#@markdown Select a molecule name you want to visualize the molecular orbitals.\n",
        "\n",
        "d = {\n",
        "    \"ethene\":\"C=C\",\n",
        "    \"but-1,3-diene\":\"C=CC=C\",\n",
        "    \"benzene\": \"c1ccccc1\"\n",
        "}\n",
        "\n",
        "name = \"but-1,3-diene\"  # @param [\"ethene\", \"but-1,3-diene\"]\n",
        "\n",
        "smiles = d[name]\n",
        "molecule_name = \"molecule\"\n",
        "# drawing_style = \"stick\" #@param ['stick', 'sphere', 'line','carton']\n",
        "\n",
        "# Establish RDKit mol object\n",
        "rd_mol = Chem.MolFromSmiles(smiles)\n",
        "rdmol_hs = Chem.rdmolops.AddHs(rd_mol)\n",
        "im = Draw.MolsToGridImage([rdmol_hs])\n",
        "AllChem.EmbedMolecule(rdmol_hs)\n",
        "AllChem.MMFFOptimizeMolecule(rdmol_hs)\n",
        "Chem.MolToXYZFile(rdmol_hs, \"{}.xyz\".format(molecule_name))\n",
        "im\n",
        "\n"
      ]
    },
    {
      "cell_type": "code",
      "execution_count": null,
      "metadata": {
        "cellView": "form",
        "id": "kc9JVeSGicv-"
      },
      "outputs": [],
      "source": [
        "from IPython.core.display import Image\n",
        "#@title View 3D molecules molecule { run: \"auto\" }\n",
        "\n",
        "\n",
        "Chem.MolToXYZFile(rdmol_hs, \"{}.xyz\".format(molecule_name))\n",
        "with open(\"{}.xyz\".format(molecule_name)) as f:\n",
        "  xyz = f.read()\n",
        "v = py3Dmol.view()\n",
        "v.addModel(xyz, 'xyz')\n",
        "v.setStyle({'stick':{}})\n",
        "v.show()"
      ]
    },
    {
      "cell_type": "code",
      "execution_count": null,
      "metadata": {
        "cellView": "form",
        "id": "8XXNLDnpTPls"
      },
      "outputs": [],
      "source": [
        "#@title Run DFT calculations\n",
        "\n",
        "#@markdown The theory behind DFT is beyond this course. In brief, we are solving Schrodinger equation to get the energy. This process will need information about the hamiltonian operator and the wavefuntion of electron. The functional represents the form of Hamiltonian operator and the basis-set is the equation of wavefunction. The calculation will generate molecular orbitals and the wavefunctions are the atomic orbitals needed to generate the molecular orbitals.\n",
        "\n",
        "\n",
        "functional = \"B3LYP\" #@param [\"B3LYP\", \"wb97x\"]\n",
        "basis_set = \"3-21G\" #@param [\"3-21G\",\"6-31G\"]\n",
        "\n",
        "# Set parameters\n",
        "mol = gto.M(atom=F'{molecule_name}.xyz',  # Establish PySCF mol object\n",
        "            basis = basis_set,\n",
        "            verbose=0\n",
        "            )\n",
        "mf = mol.KS()\n",
        "mf.xc = functional  # Set functional\n",
        "\n",
        "# Run Optimization\n",
        "# mol_eq = optimize(mf)\n",
        "# # Save results to file\n",
        "# mol_eq.tofile(F'{molecule_name}_optimization.xyz')\n",
        "\n",
        "mf.kernel()\n",
        "\n",
        "n = mol.tot_electrons()\n",
        "homo_idx = int(n/2) -1\n",
        "lumo_idx = int(n/2)\n",
        "_ = tools.cubegen.orbital(mol, f'{molecule_name}_homo-1.cube', mf.mo_coeff[:,homo_idx-1],  nx=60, ny=60, nz=60)\n",
        "_ = tools.cubegen.orbital(mol, f'{molecule_name}_homo.cube', mf.mo_coeff[:,homo_idx],  nx=60, ny=60, nz=60)\n",
        "_ = tools.cubegen.orbital(mol, f'{molecule_name}_lumo.cube', mf.mo_coeff[:,lumo_idx],  nx=60, ny=60, nz=60)\n",
        "_ = tools.cubegen.orbital(mol, f'{molecule_name}_lumo+1.cube', mf.mo_coeff[:,lumo_idx+1],  nx=60, ny=60, nz=60)\n",
        "\n",
        "\n",
        "print(\"Calculations complete\")\n",
        "print(\"The energy of the molecule is {} Hartree\".format(round(mf.e_tot,3)))"
      ]
    },
    {
      "cell_type": "code",
      "execution_count": null,
      "metadata": {
        "cellView": "form",
        "id": "Zf3bjZGdS30N"
      },
      "outputs": [],
      "source": [
        "#@title View Orbitals {run: \"auto\"}\n",
        "#@markdown Select which molecular orbital to view\n",
        "\n",
        "\n",
        "orbital = \"lumo\" #@param [\"homo-1\", \"homo\", \"lumo\", \"lumo+1\"] {type:\"string\"}\n",
        "\n",
        "\n",
        "def draw_orbital(molecule_name, xyz, orb):\n",
        "    view = py3Dmol.view(width=400,height=400)\n",
        "    with open(f\"./{molecule_name}_{orb}.cube\") as f:\n",
        "        cube_data = f.read()\n",
        "    view.addVolumetricData(cube_data, \"cube\", {'isoval': -0.04, 'color': \"red\", 'opacity': 0.75})\n",
        "    view.addVolumetricData(cube_data, \"cube\", {'isoval': 0.04, 'color': \"blue\", 'opacity': 0.75})\n",
        "    view.addModel(xyz, 'xyz')\n",
        "    view.setStyle({'stick':{}})\n",
        "    view.zoomTo()\n",
        "    view.update()\n",
        "    view.clear()\n",
        "    view.show()\n",
        "\n",
        "draw_orbital(molecule_name, xyz, orbital)"
      ]
    },
    {
      "cell_type": "markdown",
      "source": [
        "The blue and red indicate the regions where you will likely find the electron. The Highest Occupied Molecular Orbital (HOMO) is the last molecular orbital of highest that contains electrons. LUMO is Lowest Unoccupied Molecular Orbital"
      ],
      "metadata": {
        "id": "2STb2lT9MZbs"
      }
    }
  ],
  "metadata": {
    "colab": {
      "provenance": [],
      "authorship_tag": "ABX9TyNKhR2ixiR4Q9pdDTHX98xd",
      "include_colab_link": true
    },
    "kernelspec": {
      "display_name": "Python 3",
      "name": "python3"
    },
    "language_info": {
      "name": "python"
    }
  },
  "nbformat": 4,
  "nbformat_minor": 0
}
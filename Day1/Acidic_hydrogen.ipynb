{
  "cells": [
    {
      "cell_type": "markdown",
      "metadata": {
        "id": "view-in-github",
        "colab_type": "text"
      },
      "source": [
        "<a href=\"https://colab.research.google.com/github/vinayak2019/organic_chem/blob/main/Day1/Acidic_hydrogen.ipynb\" target=\"_parent\"><img src=\"https://colab.research.google.com/assets/colab-badge.svg\" alt=\"Open In Colab\"/></a>"
      ]
    },
    {
      "cell_type": "code",
      "execution_count": null,
      "metadata": {
        "id": "L3UDM31nQOUd"
      },
      "outputs": [],
      "source": [
        "%%capture\n",
        "# @title Run this cell to install the necessary software. { display-mode: \"form\" }\n",
        "\n",
        "#@markdown This should take a minute to run.\n",
        "\n",
        "\n",
        "! pip install pyscf\n",
        "! pip install rdkit\n",
        "! pip install geometric\n",
        "! pip install py3Dmol\n",
        "\n",
        "import os\n",
        "import sys\n",
        "import pyscf\n",
        "import py3Dmol\n",
        "import matplotlib.pyplot as plt\n",
        "\n",
        "from pyscf.hessian import thermo\n",
        "from pyscf import gto, scf, dft, tools, lo\n",
        "from pyscf.geomopt.geometric_solver import optimize\n",
        "\n",
        "from rdkit import Chem\n",
        "from rdkit.Chem import Draw\n",
        "from rdkit.Chem import AllChem\n",
        "from rdkit.Chem.Draw import *"
      ]
    },
    {
      "cell_type": "code",
      "execution_count": null,
      "metadata": {
        "cellView": "form",
        "id": "b_z0PEv8RGdk"
      },
      "outputs": [],
      "source": [
        "from IPython.core.display import Image\n",
        "from copy import deepcopy\n",
        "\n",
        "#@title Load molecule { run: \"auto\" }\n",
        "#@markdown Here we will load the molecule using SMILES representation. The SMILES representation can be generated at https://pubchem.ncbi.nlm.nih.gov//edit3/index.html. Copy the smiles text into this cell.\n",
        "\n",
        "smiles = \"CC(CC(C)=O)=O\" #@param {type:\"string\"}\n",
        "\n",
        "\n",
        "molecule_name = \"molecule\"\n",
        "# drawing_style = \"stick\" #@param ['stick', 'sphere', 'line','carton']\n",
        "\n",
        "# Establish RDKit mol object\n",
        "rd_mol = Chem.MolFromSmiles(smiles)\n",
        "rdmol_hs = Chem.rdmolops.AddHs(rd_mol)\n",
        "rdmol_hs_2d = deepcopy(rdmol_hs)\n",
        "im = Draw.MolsToGridImage([rdmol_hs])\n",
        "AllChem.EmbedMolecule(rdmol_hs)\n",
        "AllChem.MMFFOptimizeMolecule(rdmol_hs)\n",
        "Chem.MolToXYZFile(rdmol_hs, \"{}.xyz\".format(molecule_name))\n",
        "im\n",
        "\n"
      ]
    },
    {
      "cell_type": "code",
      "execution_count": null,
      "metadata": {
        "cellView": "form",
        "id": "8XXNLDnpTPls"
      },
      "outputs": [],
      "source": [
        "%%capture\n",
        "#@title Run DFT calculations\n",
        "\n",
        "#@markdown The theory behind DFT is beyond this course. In brief, we are solving Schrodinger equation to get the energy. This process will need information about the hamiltonian operator and the wavefuntion of electron. The functional represents the form of Hamiltonian operator and the basis-set is the equation of wavefunction.\n",
        "\n",
        "functional = \"B3LYP\" #@param [\"B3LYP\", \"wb97x\"]\n",
        "basis_set = \"3-21G\" #@param [\"3-21G\",\"6-31G\"]\n",
        "\n",
        "\n",
        "\n",
        "\n",
        "# Set parameters\n",
        "mol = gto.M(atom=F'{molecule_name}.xyz',  # Establish PySCF mol object\n",
        "            basis = basis_set,\n",
        "            verbose=0\n",
        "            )\n",
        "mf = mol.KS()\n",
        "mf.xc = functional  # Set functional\n",
        "\n",
        "# Run Optimization\n",
        "# mol_eq = optimize(mf)\n",
        "# # Save results to file\n",
        "# mol_eq.tofile(F'{molecule_name}_optimization.xyz')\n",
        "\n",
        "# Run Optimization\n",
        "mol_eq = optimize(mf)\n",
        "# Save results to file\n",
        "mol_eq.tofile(F'{molecule_name}_opt.xyz')\n",
        "\n",
        "\n",
        "\n",
        "mol = gto.M(atom=F'{molecule_name}_opt.xyz',  # Establish PySCF mol object\n",
        "            basis = basis_set,\n",
        "            verbose=0\n",
        "            )\n",
        "mf = mol.KS()\n",
        "mf.kernel()\n"
      ]
    },
    {
      "cell_type": "code",
      "source": [
        "#@title View electrostatic potential map\n",
        "dm = mf.make_rdm1()\n",
        "_ = tools.cubegen.mep(mol, f'{molecule_name}_esp.cube',dm,nx=30, ny=30, nz=30,)\n",
        "_ = tools.cubegen.density(mol, f'{molecule_name}_density.cube',dm,nx=30, ny=30, nz=30,)\n",
        "\n",
        "def draw_orbital(molecule_name, xyz, orb):\n",
        "    view = py3Dmol.view(width=400,height=400)\n",
        "    with open(f'{molecule_name}_esp.cube') as f:\n",
        "       cube_data = f.read()\n",
        "    with open(f'{molecule_name}_density.cube') as f:\n",
        "       density_data = f.read()\n",
        "\n",
        "    view.addVolumetricData(density_data, \"cube\", {'isoval': 0.005, 'smoothness': 2, 'opacity':.9,\n",
        "                'voldata': cube_data, 'volformat': 'cube.gz',\n",
        "                'volscheme': {'gradient':'rwb', 'min':-.1, 'max':.1}});\n",
        "    view.addModel(xyz, 'xyz')\n",
        "    view.setStyle({'stick':{}})\n",
        "    view.zoomTo()\n",
        "    view.update()\n",
        "    view.clear()\n",
        "    view.show()\n",
        "\n",
        "with open(\"{}.xyz\".format(molecule_name)) as f:\n",
        "  xyz = f.read()\n",
        "draw_orbital(molecule_name, xyz, \"T\")"
      ],
      "metadata": {
        "cellView": "form",
        "id": "RczRfJmbTizV"
      },
      "execution_count": null,
      "outputs": []
    },
    {
      "cell_type": "markdown",
      "source": [
        "The regions of high electron density are red and low electron density are blue. The most acidic hydrogen should have the least electron density. So, the most acidic hydrogen should have a blue region around it."
      ],
      "metadata": {
        "id": "ArmF27H0ULqd"
      }
    },
    {
      "cell_type": "markdown",
      "source": [
        "## Task\n",
        "\n",
        "Find the acidic hydrogens in the following molecules. First, predict using the concepts discussed in class. Then, run a DFT calculation to validate your prediction. Note the results in your lab notebook.\n",
        "\n",
        "![image.png](data:image/png;base64,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)\n"
      ],
      "metadata": {
        "id": "j0kZiLVTPgB3"
      }
    }
  ],
  "metadata": {
    "colab": {
      "provenance": [],
      "authorship_tag": "ABX9TyPUfOoYXC78tCDrEhPXm92x",
      "include_colab_link": true
    },
    "kernelspec": {
      "display_name": "Python 3",
      "name": "python3"
    },
    "language_info": {
      "name": "python"
    }
  },
  "nbformat": 4,
  "nbformat_minor": 0
}
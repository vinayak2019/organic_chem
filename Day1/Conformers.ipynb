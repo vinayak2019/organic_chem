{
  "cells": [
    {
      "cell_type": "markdown",
      "metadata": {
        "id": "view-in-github",
        "colab_type": "text"
      },
      "source": [
        "<a href=\"https://colab.research.google.com/github/vinayak2019/organic_chem/blob/main/Day1/Conformers.ipynb\" target=\"_parent\"><img src=\"https://colab.research.google.com/assets/colab-badge.svg\" alt=\"Open In Colab\"/></a>"
      ]
    },
    {
      "cell_type": "code",
      "execution_count": null,
      "metadata": {
        "id": "L3UDM31nQOUd"
      },
      "outputs": [],
      "source": [
        "%%capture\n",
        "# @title Run this cell to install the necessary software. { display-mode: \"form\" }\n",
        "\n",
        "#@markdown This should take a minute to run.\n",
        "\n",
        "! pip install pyscf\n",
        "! pip install rdkit\n",
        "! pip install geometric\n",
        "! pip install py3Dmol\n",
        "\n",
        "import os\n",
        "import sys\n",
        "import pyscf\n",
        "import py3Dmol\n",
        "import matplotlib.pyplot as plt\n",
        "\n",
        "from pyscf.hessian import thermo\n",
        "from pyscf import gto, scf, dft, tools, lo\n",
        "from pyscf.geomopt.geometric_solver import optimize\n",
        "\n",
        "from rdkit import Chem\n",
        "from rdkit.Chem import Draw\n",
        "from rdkit.Chem import AllChem\n",
        "from rdkit.Chem.Draw import IPythonConsole"
      ]
    },
    {
      "cell_type": "code",
      "execution_count": null,
      "metadata": {
        "id": "b_z0PEv8RGdk",
        "colab": {
          "base_uri": "https://localhost:8080/",
          "height": 458
        },
        "outputId": "4adead6c-c23d-4a1d-cdf8-03f7820c0be3",
        "cellView": "form"
      },
      "outputs": [
        {
          "output_type": "execute_result",
          "data": {
            "image/png": "[encoded data removed]",
            "text/plain": [
              "<IPython.core.display.Image object>"
            ]
          },
          "metadata": {},
          "execution_count": 88
        }
      ],
      "source": [
        "from IPython.core.display import Image\n",
        "IPythonConsole.drawOptions.addAtomIndices = True\n",
        "\n",
        "#@title Load molecule { run: \"auto\" }\n",
        "#@markdown Here we will load the molecule using SMILES representation. The SMILES representation can be generated at https://pubchem.ncbi.nlm.nih.gov//edit3/index.html. Copy the smiles text into this cell.\n",
        "\n",
        "smiles = \"CCCC\" #@param {type:\"string\"}\n",
        "\n",
        "\n",
        "molecule_name = \"molecule\"\n",
        "# drawing_style = \"stick\" #@param ['stick', 'sphere', 'line','carton']\n",
        "\n",
        "# Establish RDKit mol object\n",
        "rd_mol = Chem.MolFromSmiles(smiles)\n",
        "rdmol_hs = Chem.rdmolops.AddHs(rd_mol)\n",
        "im = Draw.MolsToGridImage([rdmol_hs],subImgSize=(500,500))\n",
        "AllChem.EmbedMolecule(rdmol_hs)\n",
        "AllChem.MMFFOptimizeMolecule(rdmol_hs)\n",
        "im\n"
      ]
    },
    {
      "cell_type": "code",
      "execution_count": null,
      "metadata": {
        "id": "8XXNLDnpTPls",
        "colab": {
          "base_uri": "https://localhost:8080/"
        },
        "outputId": "dc0adfe4-eaaa-492a-aac8-d987e569d9cc",
        "cellView": "form"
      },
      "outputs": [
        {
          "output_type": "stream",
          "name": "stdout",
          "text": [
            "Calculations complete\n"
          ]
        }
      ],
      "source": [
        "#@title Run DFT calculations\n",
        "\n",
        "#@markdown **atom_list**: numbers for 4 consecutive atoms\n",
        "\n",
        "#@markdown **rotation_max**: the rotation starts at 0 degree and this value sets the max. Usually 360\n",
        "\n",
        "#@markdown **increment**: increments of angle to compute the energy\n",
        "\n",
        "\n",
        "\n",
        "from copy import deepcopy\n",
        "\n",
        "data = []\n",
        "mol_rd = deepcopy(rdmol_hs)\n",
        "\n",
        "atoms_list = 8,1,2,9 #@param\n",
        "rotation_max = 360 #@param\n",
        "increment = 10 #@param\n",
        "\n",
        "functional = \"B3LYP\" #@param [\"B3LYP\", \"wb97x\"]\n",
        "basis_set = \"3-21G\" #@param [\"3-21G\",\"6-31G\"]\n",
        "\n",
        "\n",
        "! rm -fr mols && mkdir mols\n",
        "\n",
        "for i in range(0,rotation_max+increment,increment):\n",
        "  Chem.AllChem.SetDihedralDeg(mol_rd.GetConformer(0),atoms_list[0],atoms_list[1],atoms_list[2],atoms_list[3],float(i))\n",
        "  Chem.MolToXYZFile(mol_rd, \"mols/{}_{}.xyz\".format(molecule_name,i))\n",
        "\n",
        "\n",
        "\n",
        "  # Set parameters\n",
        "  mol = gto.M(atom=F'mols/{molecule_name}_{i}.xyz',  # Establish PySCF mol object\n",
        "              basis = basis_set,\n",
        "              verbose=0\n",
        "              )\n",
        "  mf = mol.KS()\n",
        "  mf.xc = functional  # Set functional\n",
        "  mf.kernel()\n",
        "  data.append([i,round(mf.e_tot,3)])\n",
        "\n",
        "\n",
        "\n",
        "print(\"Calculations complete\")\n",
        "\n"
      ]
    },
    {
      "cell_type": "code",
      "source": [
        "#@title Plot the data\n",
        "\n",
        "import pandas as pd\n",
        "import matplotlib.pyplot as plt\n",
        "\n",
        "\n",
        "df = pd.DataFrame(data,columns=[\"Angle\",\"Energy\"]).set_index(\"Angle\")\n",
        "df['Energy'].plot(kind='line', figsize=(8, 4))\n",
        "plt.gca().spines[['top', 'right']].set_visible(False)\n",
        "plt.ylabel(\"Energy\")"
      ],
      "metadata": {
        "cellView": "form",
        "id": "Zi56wxtOaPaq"
      },
      "execution_count": null,
      "outputs": []
    },
    {
      "source": [
        "#@title Use slider to set angle for the conformer { run: \"auto\" }\n",
        "\n",
        "from IPython.core.display import Image\n",
        "import ipywidgets as widgets\n",
        "\n",
        "slider = widgets.IntSlider(value=5, min= 0, max=rotation_max, step=increment)\n",
        "display(slider)"
      ],
      "cell_type": "code",
      "metadata": {
        "id": "IN-jvmJAjTAk",
        "cellView": "form"
      },
      "execution_count": null,
      "outputs": []
    },
    {
      "cell_type": "code",
      "source": [
        "#@title View the conformer { run: \"auto\" }\n",
        "\n",
        "with open(\"mols/{}_{}.xyz\".format(molecule_name,slider.value)) as f:\n",
        "  xyz = f.read()\n",
        "v = py3Dmol.view()\n",
        "v.addModel(xyz, 'xyz')\n",
        "v.setStyle({'stick':{}})\n",
        "v.show()"
      ],
      "metadata": {
        "cellView": "form",
        "id": "NWSS6hadmgeO"
      },
      "execution_count": null,
      "outputs": []
    },
    {
      "cell_type": "markdown",
      "source": [
        "## Task\n",
        "Find the most stable and least stable configurations of the following molecules. Draw the Newman projections for the same in your lab notebook. The 4 atoms you need to change the angles are highlighted in red.\n",
        "\n",
        "![image.png](data:image/png;base64,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)\n"
      ],
      "metadata": {
        "id": "2STb2lT9MZbs"
      }
    }
  ],
  "metadata": {
    "colab": {
      "provenance": [],
      "authorship_tag": "ABX9TyNNjnWdDTZLSpoOvrg4lCf9",
      "include_colab_link": true
    },
    "kernelspec": {
      "display_name": "Python 3",
      "name": "python3"
    },
    "language_info": {
      "name": "python"
    }
  },
  "nbformat": 4,
  "nbformat_minor": 0
}
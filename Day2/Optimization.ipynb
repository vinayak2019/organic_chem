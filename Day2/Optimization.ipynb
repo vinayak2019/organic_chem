{
  "nbformat": 4,
  "nbformat_minor": 0,
  "metadata": {
    "colab": {
      "provenance": [],
      "authorship_tag": "ABX9TyOdfrqt6maixXI46gBuiqLP",
      "include_colab_link": true
    },
    "kernelspec": {
      "name": "python3",
      "display_name": "Python 3"
    },
    "language_info": {
      "name": "python"
    }
  },
  "cells": [
    {
      "cell_type": "markdown",
      "metadata": {
        "id": "view-in-github",
        "colab_type": "text"
      },
      "source": [
        "<a href=\"https://colab.research.google.com/github/vinayak2019/organic_chem/blob/main/Day2/Optimization.ipynb\" target=\"_parent\"><img src=\"https://colab.research.google.com/assets/colab-badge.svg\" alt=\"Open In Colab\"/></a>"
      ]
    },
    {
      "cell_type": "code",
      "execution_count": null,
      "metadata": {
        "id": "xGyZul6JhUYk"
      },
      "outputs": [],
      "source": [
        "%%capture\n",
        "# @title Run this cell to install the necessary software. { display-mode: \"form\" }\n",
        "\n",
        "#@markdown This should take a minute to run.\n",
        "\n",
        "! pip install pyscf\n",
        "! pip install rdkit\n",
        "! pip install geometric\n",
        "! pip install py3Dmol\n",
        "\n",
        "import os\n",
        "import sys\n",
        "import pyscf\n",
        "import py3Dmol\n",
        "import matplotlib.pyplot as plt\n",
        "\n",
        "from pyscf.hessian import thermo\n",
        "from pyscf import gto, scf, dft, tools, lo\n",
        "from pyscf.geomopt.geometric_solver import optimize\n",
        "\n",
        "from rdkit import Chem\n",
        "from rdkit.Chem import Draw\n",
        "from rdkit.Chem import AllChem\n",
        "from rdkit.Chem.Draw import IPythonConsole"
      ]
    },
    {
      "cell_type": "code",
      "source": [
        "from IPython.core.display import Image\n",
        "from copy import deepcopy\n",
        "\n",
        "#@title Load molecule { run: \"auto\" }\n",
        "#@markdown Here we will load the molecule using SMILES representation. The SMILES representation can be generated at https://pubchem.ncbi.nlm.nih.gov//edit3/index.html. Copy the smiles text into this cell.\n",
        "\n",
        "smiles = \"CCC\" #@param {type:\"string\"}\n",
        "\n",
        "\n",
        "molecule_name = \"molecule\"\n",
        "# drawing_style = \"stick\" #@param ['stick', 'sphere', 'line','carton']\n",
        "\n",
        "# Establish RDKit mol object\n",
        "rd_mol = Chem.MolFromSmiles(smiles)\n",
        "rdmol_hs = Chem.rdmolops.AddHs(rd_mol)\n",
        "rdmol_hs_2d = deepcopy(rdmol_hs)\n",
        "im = Draw.MolsToGridImage([rdmol_hs])\n",
        "AllChem.EmbedMolecule(rdmol_hs)\n",
        "Chem.MolToXYZFile(rdmol_hs, \"{}.xyz\".format(molecule_name))\n",
        "im\n",
        "\n"
      ],
      "metadata": {
        "id": "x4fJAQ9xhlPm",
        "cellView": "form"
      },
      "execution_count": null,
      "outputs": []
    },
    {
      "cell_type": "code",
      "source": [
        "from IPython.core.display import Image\n",
        "#@title View 3D molecules molecule { run: \"auto\" }\n",
        "\n",
        "\n",
        "Chem.MolToXYZFile(rdmol_hs, \"{}.xyz\".format(molecule_name))\n",
        "with open(\"{}.xyz\".format(molecule_name)) as f:\n",
        "  xyz = f.read()\n",
        "v = py3Dmol.view()\n",
        "v.addModel(xyz, 'xyz')\n",
        "v.setStyle({'stick':{}})\n",
        "v.show()"
      ],
      "metadata": {
        "id": "GEHo6edrhqZX",
        "cellView": "form"
      },
      "execution_count": null,
      "outputs": []
    },
    {
      "cell_type": "code",
      "source": [
        "%%capture\n",
        "#@title Run DFT calculations\n",
        "\n",
        "#@markdown The theory behind DFT is beyond this course. In brief, we are solving Schrodinger equation to get the energy. This process will need information about the hamiltonian operator and the wavefuntion of electron. The functional represents the form of Hamiltonian operator and the basis-set is the equation of wavefunction.\n",
        "\n",
        "functional = \"HF\" #@param [\"HF\", \"B3LYP\"]\n",
        "basis_set = \"3-21G\" #@param [\"3-21G\",\"6-31G\"]\n",
        "\n",
        "\n",
        "\n",
        "\n",
        "# Set parameters\n",
        "mol = gto.M(atom=F'{molecule_name}.xyz',  # Establish PySCF mol object\n",
        "            basis = basis_set,\n",
        "            verbose=0\n",
        "            )\n",
        "\n",
        "\n",
        "if functional == \"B3LYP\":\n",
        "  mf = mol.KS()\n",
        "  mf.xc = functional  # Set functional\n",
        "else:\n",
        "  mf = mol.HF()\n",
        "\n",
        "# Run Optimization\n",
        "# mol_eq = optimize(mf)\n",
        "# # Save results to file\n",
        "# mol_eq.tofile(F'{molecule_name}_optimization.xyz')\n",
        "\n",
        "\n",
        "# Run Optimization\n",
        "mol_eq = optimize(mf)\n",
        "# Save results to file\n",
        "mol_eq.tofile(F'{molecule_name}_opt.xyz')\n",
        "\n",
        "\n",
        "if functional == \"B3LYP\":\n",
        "  mf = mol.KS()\n",
        "  mf.xc = functional  # Set functional\n",
        "else:\n",
        "  mf = mol.HF()\n",
        "\n",
        "mf.kernel()\n"
      ],
      "metadata": {
        "cellView": "form",
        "id": "-59nwiVBhfLt"
      },
      "execution_count": null,
      "outputs": []
    },
    {
      "cell_type": "code",
      "source": [
        "from IPython.core.display import Image\n",
        "#@title View optimized 3D molecule { run: \"auto\" }\n",
        "\n",
        "\n",
        "Chem.MolToXYZFile(rdmol_hs, \"{}.xyz\".format(molecule_name))\n",
        "with open(\"{}_opt.xyz\".format(molecule_name)) as f:\n",
        "  xyz = f.read()\n",
        "v = py3Dmol.view()\n",
        "v.addModel(xyz, 'xyz')\n",
        "v.setStyle({'stick':{}})\n",
        "v.show()"
      ],
      "metadata": {
        "id": "FbmOpk0ohrxO",
        "cellView": "form"
      },
      "execution_count": null,
      "outputs": []
    },
    {
      "cell_type": "markdown",
      "source": [
        "## Task\n",
        "\n",
        "Compare the most stable structure from the conformational rotation and optimization. Are they the same of different?"
      ],
      "metadata": {
        "id": "62h8Zo8hQUWN"
      }
    }
  ]
}
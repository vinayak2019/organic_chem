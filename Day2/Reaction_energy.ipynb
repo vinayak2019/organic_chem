{
  "nbformat": 4,
  "nbformat_minor": 0,
  "metadata": {
    "colab": {
      "provenance": [],
      "authorship_tag": "ABX9TyM8h2nb4ce673GrCrAvLHkw",
      "include_colab_link": true
    },
    "kernelspec": {
      "name": "python3",
      "display_name": "Python 3"
    },
    "language_info": {
      "name": "python"
    }
  },
  "cells": [
    {
      "cell_type": "markdown",
      "metadata": {
        "id": "view-in-github",
        "colab_type": "text"
      },
      "source": [
        "<a href=\"https://colab.research.google.com/github/vinayak2019/organic_chem/blob/main/Day2/Reaction_energy.ipynb\" target=\"_parent\"><img src=\"https://colab.research.google.com/assets/colab-badge.svg\" alt=\"Open In Colab\"/></a>"
      ]
    },
    {
      "cell_type": "code",
      "execution_count": null,
      "metadata": {
        "id": "xGyZul6JhUYk"
      },
      "outputs": [],
      "source": [
        "%%capture\n",
        "# @title Run this cell to install the necessary software. { display-mode: \"form\" }\n",
        "\n",
        "#@markdown This should take a minute to run.\n",
        "\n",
        "! pip install pyscf\n",
        "! pip install rdkit\n",
        "! pip install geometric\n",
        "! pip install py3Dmol\n",
        "\n",
        "\n",
        "import os\n",
        "import sys\n",
        "import pyscf\n",
        "import py3Dmol\n",
        "import matplotlib.pyplot as plt\n",
        "\n",
        "from pyscf.hessian import thermo\n",
        "from pyscf import gto, scf, dft, tools, lo\n",
        "from pyscf.geomopt.geometric_solver import optimize\n",
        "\n",
        "from rdkit import Chem\n",
        "from rdkit.Chem import Draw\n",
        "from rdkit.Chem import AllChem\n",
        "from rdkit.Chem.Draw import IPythonConsole"
      ]
    },
    {
      "cell_type": "code",
      "source": [
        "from pyscf.data.elements import charge\n",
        "from IPython.core.display import Image\n",
        "from copy import deepcopy\n",
        "\n",
        "#@title Load molecule { run: \"auto\" }\n",
        "#@markdown Here we will load the molecule using SMILES representation. The SMILES representation can be generated at https://pubchem.ncbi.nlm.nih.gov//edit3/index.html. Copy the smiles text into this cell.\n",
        "\n",
        "smiles = \"CCC[C+]([H])[H]\" #@param {type:\"string\"}\n",
        "\n",
        "\n",
        "molecule_name = \"molecule\"\n",
        "# drawing_style = \"stick\" #@param ['stick', 'sphere', 'line','carton']\n",
        "\n",
        "# Establish RDKit mol object\n",
        "rd_mol = Chem.MolFromSmiles(smiles)\n",
        "rdmol_hs = Chem.rdmolops.AddHs(rd_mol)\n",
        "rdmol_hs_2d = deepcopy(rdmol_hs)\n",
        "im = Draw.MolsToGridImage([rdmol_hs])\n",
        "AllChem.EmbedMolecule(rdmol_hs)\n",
        "Chem.MolToXYZFile(rdmol_hs, \"{}.xyz\".format(molecule_name))\n",
        "\n",
        "charge = Chem.rdmolops.GetFormalCharge(rdmol_hs)\n",
        "if charge != 0:\n",
        "  spin = 2\n",
        "else:\n",
        "  spin = 0\n",
        "im\n",
        "\n"
      ],
      "metadata": {
        "id": "x4fJAQ9xhlPm",
        "cellView": "form"
      },
      "execution_count": null,
      "outputs": []
    },
    {
      "cell_type": "code",
      "source": [
        "from IPython.core.display import Image\n",
        "#@title View 3D molecules molecule { run: \"auto\" }\n",
        "\n",
        "\n",
        "Chem.MolToXYZFile(rdmol_hs, \"{}.xyz\".format(molecule_name))\n",
        "with open(\"{}.xyz\".format(molecule_name)) as f:\n",
        "  xyz = f.read()\n",
        "v = py3Dmol.view()\n",
        "v.addModel(xyz, 'xyz')\n",
        "v.setStyle({'stick':{}})\n",
        "v.show()"
      ],
      "metadata": {
        "cellView": "form",
        "id": "IiDVBmHjXxG6"
      },
      "execution_count": null,
      "outputs": []
    },
    {
      "cell_type": "code",
      "source": [
        "%%capture\n",
        "#@title Run DFT calculations\n",
        "\n",
        "#@markdown The theory behind DFT is beyond this course. In brief, we are solving Schrodinger equation to get the energy. This process will need information about the hamiltonian operator and the wavefuntion of electron. The functional represents the form of Hamiltonian operator and the basis-set is the equation of wavefunction. If there is an error in this step, build the molecule again and run this cell.\n",
        "\n",
        "\n",
        "functional = \"HF\" #@param [\"HF\", \"B3LYP\"]\n",
        "basis_set = \"3-21G\" #@param [\"3-21G\",\"6-31G\"]\n",
        "\n",
        "\n",
        "\n",
        "\n",
        "# Set parameters\n",
        "mol = gto.M(atom=F'{molecule_name}.xyz',  # Establish PySCF mol object\n",
        "            charge = charge,\n",
        "            spin = spin,\n",
        "            basis = basis_set,\n",
        "            verbose=0\n",
        "            )\n",
        "\n",
        "\n",
        "if functional == \"B3LYP\":\n",
        "  mf = mol.KS()\n",
        "  mf.xc = functional  # Set functional\n",
        "else:\n",
        "  mf = mol.HF()\n",
        "\n",
        "# Run Optimization\n",
        "# mol_eq = optimize(mf)\n",
        "# # Save results to file\n",
        "# mol_eq.tofile(F'{molecule_name}_optimization.xyz')\n",
        "\n",
        "\n",
        "# Run Optimization\n",
        "mol_eq = optimize(mf,maxsteps=1000)\n",
        "# Save results to file\n",
        "mol_eq.tofile(F'{molecule_name}_opt.xyz')\n",
        "\n",
        "\n",
        "mol = gto.M(atom=F'{molecule_name}_opt.xyz',  # Establish PySCF mol object\n",
        "            basis = basis_set,\n",
        "            charge = charge,\n",
        "            spin = spin,\n",
        "            verbose=0\n",
        "            )\n",
        "\n",
        "if functional == \"B3LYP\":\n",
        "  mf = mol.KS()\n",
        "  mf.xc = functional  # Set functional\n",
        "else:\n",
        "  mf = mol.HF()\n",
        "\n",
        "mf.kernel()\n",
        "\n",
        "\n"
      ],
      "metadata": {
        "cellView": "form",
        "id": "-59nwiVBhfLt"
      },
      "execution_count": null,
      "outputs": []
    },
    {
      "cell_type": "code",
      "source": [
        "from IPython.core.display import Image\n",
        "#@title View optimized 3D molecule { run: \"auto\" }\n",
        "\n",
        "\n",
        "Chem.MolToXYZFile(rdmol_hs, \"{}.xyz\".format(molecule_name))\n",
        "with open(\"{}_opt.xyz\".format(molecule_name)) as f:\n",
        "  xyz = f.read()\n",
        "v = py3Dmol.view()\n",
        "v.addModel(xyz, 'xyz')\n",
        "v.setStyle({'stick':{}})\n",
        "v.show()"
      ],
      "metadata": {
        "id": "FbmOpk0ohrxO",
        "cellView": "form"
      },
      "execution_count": null,
      "outputs": []
    },
    {
      "cell_type": "code",
      "source": [
        "#@title Display energy of optimized molecule\n",
        "print(\"Energy is {} hartree\".format(round(mf.e_tot,4)))"
      ],
      "metadata": {
        "cellView": "form",
        "id": "t9Zd7r5JMUET"
      },
      "execution_count": null,
      "outputs": []
    },
    {
      "cell_type": "markdown",
      "source": [
        "## Task\n",
        "\n",
        "1. Determine which of the following carbocation is most stable (more negative energy). Give the energy for each cation. Note, add the hydrogen to the positvely charged center while generating the SMILES.\n",
        "\n",
        "![image.png](data:image/png;base64,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)"
      ],
      "metadata": {
        "id": "HXdvQA_AOgPv"
      }
    },
    {
      "cell_type": "markdown",
      "source": [
        "2. Is the following reaction exergonic or endergonic? Hint: Determine the energy of the reactant and product.\n",
        "\n",
        "![image.png](data:image/png;base64,iVBORw0KGgoAAAANSUhEUgAAALMAAAA0CAYAAADBoQmTAAAFMklEQVR4Ae2coU80MRDFDwIIBMFBUCBIMBAkghAkEhIECoMBh0AgSFAEiSHhD0AgCQqJxJAgCQoHEoFA9svrlyHl0t3r9trb2eU1Icvtddvpm1+nc9296xgWKtASBTotGQeHoUyB19dX8/T0ZL6+vn4swzn3Nd5AnVSFMKdSku1YBQDs/Py8WV1dNVtbW6bT6Zi7uzv7Hl53w4v3U5V0LRVYdHl5aQcEozFADBYFA2NpnwIA2QUWkRh+x7lGwwyQj46OzPv7u/UaBiQzkTC3D2QEKp9fEZnBAt67vr62YIMFl4cUamSNzJil3TkSI3MKt+lsQ6Jvt3U4LzBL+gGw8SfBrfuamNdZYS4z1DeDYwbAa/QogMCFANZdADIiMnwOsN1SxohbL+T/rDD7IvPDw4PNmwlziHuaV+fs7MxCCz8DXLxGNAbojYbZlzML4IS5eaCGWowceW9vz8ILBiTVBNiSZkpbKTnIGplhMAaApQR/3M0QF/KYQ4HsMOcwmm1SAZ8ChNmnCs8lUWB9fT1JO6GNDAzmm5sb8/39HWoX67VAgZQ7FSFyDAzm2dlZ8/b2FmIT67REAcLcEkdyGCbpDZEQPRmZQ1RinSgFGJmjZONFGhUgzBq9QpuiFCDMUbLxIo0KEGaNXqFNUQoQ5ijZeJFGBQizRq/QpigFCHOUbLxIowKEWaNXarQJjwCcn5+b29vbxj0OQJhrBEdr18vLy2ZsbMyMjIyYhYUF+73K+/t79XATZq1E1WjXx8eHmZiY+HkuHJBMTk5auAE6Ivfj42ONFvq7Jsx+Xf782e3t7V8wAxT5Q8QWuFdWVizcz8/PtWtGmDO6QJzf1OPo6OgPwGVjGBoasvUWFxczqtm7acLcW6M/WWN3d7cUZKQh4+PjZmZmxqAuPjB+fn7WqhVhrlV+nZ2X5cxzc3Pm4ODA4MsPqKepEGZN3lBiy9ramkGKwd2McofweeZyfWp/l/vM4S4gzOFasWZFBZhmVBSM1XUqgO97Dg8PD/R7nwOLzNPT0wMdmE4Xt98q7KAcHh4afIH55OTEHvF6EDsr2WHGDN3c3DRTU1NmaWnJ4DfIWNqpwMXFhYUXR7cUnXfrpPg/G8wyQ/EsAfY8UXBXCj8MArj5swMp3KejDfgXkbgsAgsPqCc8pLY+C8zuTPT98EvI4FMPlO2lVyAmOMlKjaCW+pZ7UpjxJBcicdkMdSV1oXfP83/dCuDmzP7+vsFDTrFpI67D9Wgn1c2eJDDLDN3Y2DAvLy+VPCHLj5uOVGqAlQemAFbZ09NTm1JcXV0l6RftIPVAu75VvEonfcGcYoaKsZgEyKVzLD/SB4/xCuB2eSrouq1wJwn6iS1RMEvniKapZqgMIMfyI23zWF0B8cfOzk6ydKDICgRH9BObvlSG2Z2hOfcOMUkwWfDgeb/LT5F4PF+sQM4PasW9/n9H0taqu17BMGOG4sHvQcxQGSwmy/HxsV3e+ll+pD0eeyug6TMMdr2qbCj0hNmdoXV9NUeWH0ymumzojUHza7i7S1pWQ9jh2lWmciHMEhU17TIAZFkdeNOlzK3V3qu6pVqt9TS13RUD9vqKF2bMBM35KlIO2IcUBINkiVNActOYLdW4Hvu/CrtesNe36/ULZneGptrI7t98fwtYfvDhEFCn3lHx99ius9AsdtdAgxKyy+L63sKMJRu0N2mGiqDuXnfq26PSRxuP2oNVqObuOCzMoLwoDwlttO56ADnXAyx1j439hynwK80Iu4S1qIBOBQizTr/QqggF/gFuzFa2Um8kCwAAAABJRU5ErkJggg==)"
      ],
      "metadata": {
        "id": "4ZfdU_vbPQkx"
      }
    }
  ]
}